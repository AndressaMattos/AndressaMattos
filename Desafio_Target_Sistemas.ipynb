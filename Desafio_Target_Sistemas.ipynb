{
  "nbformat": 4,
  "nbformat_minor": 0,
  "metadata": {
    "colab": {
      "provenance": [],
      "authorship_tag": "ABX9TyNL0gqufO3QGZy0sqgYrM32",
      "include_colab_link": true
    },
    "kernelspec": {
      "name": "python3",
      "display_name": "Python 3"
    },
    "language_info": {
      "name": "python"
    }
  },
  "cells": [
    {
      "cell_type": "markdown",
      "metadata": {
        "id": "view-in-github",
        "colab_type": "text"
      },
      "source": [
        "<a href=\"https://colab.research.google.com/github/AndressaMattos/AndressaMattos/blob/main/Desafio_Target_Sistemas.ipynb\" target=\"_parent\"><img src=\"https://colab.research.google.com/assets/colab-badge.svg\" alt=\"Open In Colab\"/></a>"
      ]
    },
    {
      "cell_type": "markdown",
      "source": [
        "#Nome Andressa Rangel de Mattos\n",
        "#Link git: https://github.com/AndressaMattos/Desafio_Target_Sistemas\n",
        "#Link Drive: https://drive.google.com/drive/folders/1MnlQlWQOtDkuEA2Hl3UcRAFwR5BTAl9R?usp=drive_link"
      ],
      "metadata": {
        "id": "5tqyIpzIqrrc"
      }
    },
    {
      "cell_type": "markdown",
      "source": [
        "# 1) Observe o trecho de código:\n",
        "\n",
        "      int INDICE = 12, SOMA = 0, K = 1;\n",
        "\n",
        "      enquanto K < INDICE faça\n",
        "\n",
        "      { K = K + 1; SOMA = SOMA + K;}\n",
        "\n",
        "      imprimir(SOMA);\n",
        "\n",
        "Ao final do processamento, qual será o valor da variável SOMA?"
      ],
      "metadata": {
        "id": "8GXJVtkkKj4g"
      }
    },
    {
      "cell_type": "code",
      "execution_count": null,
      "metadata": {
        "colab": {
          "base_uri": "https://localhost:8080/"
        },
        "id": "Y4SBMsqLKjUG",
        "outputId": "8fa4c04d-bd00-4e6e-d87e-8224e7cc1dea"
      },
      "outputs": [
        {
          "output_type": "stream",
          "name": "stdout",
          "text": [
            "A resposta é soma = 77 \n"
          ]
        }
      ],
      "source": [
        "indice = 12\n",
        "soma = 0\n",
        "k = 1\n",
        "contador = 0\n",
        "\n",
        "while k < indice:\n",
        "  k = k + 1;\n",
        "  soma = soma + k;\n",
        "  contador = contador + 1;\n",
        " # print(f'k {k} < indice {indice}: \\n   k {k} = k {k} + 1; \\n   soma{soma} = soma{soma} + k{k}');\n",
        "\n",
        "print(f\"A resposta é soma = {soma} \");"
      ]
    },
    {
      "cell_type": "markdown",
      "source": [
        "#2) Descubra a lógica e complete o próximo elemento:\n",
        "\n",
        "a) 1, 3, 5, 7, ___\n",
        "\n",
        "b) 2, 4, 8, 16, 32, 64, ____\n",
        "\n",
        "c) 0, 1, 4, 9, 16, 25, 36, ____\n",
        "\n",
        "d) 4, 16, 36, 64, ____\n",
        "\n",
        "e) 1, 1, 2, 3, 5, 8, ____\n",
        "\n",
        "f) 2,10, 12, 16, 17, 18, 19, ____"
      ],
      "metadata": {
        "id": "7NLs8Nms2hhH"
      }
    },
    {
      "cell_type": "markdown",
      "source": [
        "a) 1, 3, 5, 7, 9 -> Lógica: Inteiros ou +2\n",
        "\n",
        "b) 2, 4, 8, 16, 32, 64, 128 ->  Lógica: *2\n",
        "\n",
        "c) 0, 1, 4, 9, 16, 25, 36, 46 -> Lógica: 0², 1², 2², 3², 4², 5², 6², 7²\n",
        "\n",
        "d) 4, 16, 36, 64,  100 -> Lógica: Diferença +8.\n",
        "\n",
        "e) 1, 1, 2, 3, 5, 8, 13 -> Lógica: Fibonacci\n",
        "\n",
        "f) 2,10, 12, 16, 17, 18, 19, 200 -> Lógica: Iniciam com Letra D"
      ],
      "metadata": {
        "id": "_4LSXsgO2iS1"
      }
    },
    {
      "cell_type": "markdown",
      "source": [
        "#3) Dado um vetor que guarda o valor de faturamento diário de uma distribuidora de todos os dias de um ano, faça um programa, na linguagem que desejar, que calcule e retorne:\n",
        "\n",
        "- O menor valor de faturamento ocorrido em um dia do ano;\n",
        "- O maior valor de faturamento ocorrido em um dia do ano;\n",
        "- Número de dias no ano em que o valor de faturamento diário foi superior à média anual.\n",
        "\n",
        "a) Considerar o vetor já carregado com as informações de valor de faturamento.\n",
        "\n",
        "b) Podem existir dias sem faturamento, como nos finais de semana e feriados. Estes dias devem ser ignorados no cálculo da média.\n",
        "\n",
        "c) Utilize o algoritmo mais veloz que puder definir."
      ],
      "metadata": {
        "id": "-xv9lyF-lLIo"
      }
    },
    {
      "cell_type": "code",
      "source": [
        "import random\n",
        "faturamento = []\n",
        "\n",
        "for dia in range(365):\n",
        "  if dia % 7 == 5 or dia % 7 == 6:  # Sábado e domingo\n",
        "      faturamento.append(0)\n",
        "      #print(f\"Dia {dia + 1}: Sem faturamento\")\n",
        "  else:\n",
        "      # Gerar valores aleatórios de faturamento entre 100 e 100000 para dias úteis\n",
        "      faturamento.append(random.randint(1, 100000))\n",
        "\n",
        "print(faturamento)"
      ],
      "metadata": {
        "colab": {
          "base_uri": "https://localhost:8080/"
        },
        "id": "6RkbPe-1nRxU",
        "outputId": "872b173b-d27f-407e-c1f5-817d6f1d6297"
      },
      "execution_count": null,
      "outputs": [
        {
          "output_type": "stream",
          "name": "stdout",
          "text": [
            "[36082, 75528, 4593, 63218, 84231, 0, 0, 11158, 93234, 44095, 90846, 40785, 0, 0, 61424, 22325, 62792, 60666, 34518, 0, 0, 1431, 71300, 53596, 79942, 35957, 0, 0, 31507, 63794, 4612, 47464, 57055, 0, 0, 6892, 77459, 81752, 57001, 72671, 0, 0, 67263, 47908, 71815, 15706, 69012, 0, 0, 39099, 42475, 24229, 24292, 48413, 0, 0, 14037, 73052, 90858, 20634, 80717, 0, 0, 32784, 65246, 92778, 28960, 26046, 0, 0, 16187, 19858, 37384, 97018, 6410, 0, 0, 21921, 20845, 72044, 75298, 67607, 0, 0, 61780, 83309, 39214, 60457, 56577, 0, 0, 31848, 62015, 9677, 98278, 39539, 0, 0, 82981, 51796, 25150, 29369, 93574, 0, 0, 1174, 14802, 43317, 47016, 95649, 0, 0, 77999, 16598, 25688, 80663, 46114, 0, 0, 27396, 30901, 33111, 72747, 22316, 0, 0, 72969, 27812, 57880, 99583, 90657, 0, 0, 73934, 42050, 24357, 65175, 62808, 0, 0, 38375, 1045, 1526, 77705, 23281, 0, 0, 11072, 97769, 89297, 58136, 12642, 0, 0, 62342, 93407, 70232, 37019, 26251, 0, 0, 92775, 71848, 42482, 93453, 57776, 0, 0, 11913, 34823, 15321, 73949, 59353, 0, 0, 64270, 1800, 70790, 34505, 49620, 0, 0, 97932, 78328, 33972, 22986, 66132, 0, 0, 75057, 94167, 96986, 91603, 17672, 0, 0, 16421, 89001, 55190, 97411, 83653, 0, 0, 39796, 97969, 6398, 65392, 87937, 0, 0, 93749, 60963, 84793, 51137, 98968, 0, 0, 47946, 51353, 93857, 665, 31773, 0, 0, 22467, 92658, 12346, 3781, 1681, 0, 0, 74111, 6523, 7794, 46227, 91861, 0, 0, 69366, 27474, 14545, 14965, 23199, 0, 0, 41921, 99657, 28158, 23808, 88232, 0, 0, 74834, 3607, 51048, 54757, 14412, 0, 0, 18941, 26271, 12313, 45591, 87932, 0, 0, 73689, 69466, 33163, 45544, 12769, 0, 0, 35031, 86767, 43643, 55684, 19505, 0, 0, 29470, 39893, 74015, 63056, 2445, 0, 0, 21157, 96326, 64670, 91007, 40604, 0, 0, 17517, 52293, 97586, 89585, 55864, 0, 0, 75326, 92480, 31086, 83138, 92908, 0, 0, 22166, 18107, 68906, 21645, 97612, 0, 0, 82146, 4467, 9111, 57467, 40847, 0, 0, 56275, 79792, 88564, 34450, 21475, 0, 0, 85737, 21026, 66640, 98618, 90658, 0, 0, 38652, 19280, 7787, 77530, 4059, 0, 0, 84549, 1448, 91308, 76189, 86477, 0, 0, 11757, 84767, 96258, 25726, 40681, 0, 0, 13990, 42112, 26329, 84406, 49240, 0, 0, 26496]\n"
          ]
        }
      ]
    },
    {
      "cell_type": "code",
      "source": [
        "#Linguagem escolhida: Python\n",
        "def calcular_faturamento(faturamento):\n",
        "    # Remover finais de semana e dias com faturamento = 0\n",
        "    faturamento_dias_uteis = [f for f in faturamento if f > 0]\n",
        "\n",
        "    #Minimo e maximo faturamento\n",
        "    menor_faturamento,maior_faturamento = min(faturamento_dias_uteis), max(faturamento_dias_uteis)\n",
        "\n",
        "    # Calcular a média de faturamento\n",
        "    media_anual = sum(faturamento_dias_uteis) / len(faturamento_dias_uteis)\n",
        "\n",
        "    #Calcular dias acima da média\n",
        "    dias_acima_media = sum(1 for f in faturamento_dias_uteis if f > media_anual)\n",
        "\n",
        "    return menor_faturamento, maior_faturamento, dias_acima_media\n",
        "\n",
        "menor_faturamento, maior_faturamento, dias_acima_media = calcular_faturamento(faturamento)\n",
        "\n",
        "# Exibindo os resultados\n",
        "end=\"\\n\"\n",
        "print(f\"Menor faturamento: {menor_faturamento}{end}Maior faturamento: {maior_faturamento}{end}Dias com faturamento acima da média: {dias_acima_media}\")\n"
      ],
      "metadata": {
        "colab": {
          "base_uri": "https://localhost:8080/"
        },
        "id": "wc7EW16tl1sO",
        "outputId": "6f3a2e98-35c6-40fc-e015-ed938a1f18ab"
      },
      "execution_count": null,
      "outputs": [
        {
          "output_type": "stream",
          "name": "stdout",
          "text": [
            "Menor faturamento: 665\n",
            "Maior faturamento: 99657\n",
            "Dias com faturamento acima da média: 130\n"
          ]
        }
      ]
    },
    {
      "cell_type": "markdown",
      "source": [
        "4) Banco de dados\n",
        "\n",
        "Uma empresa solicitou a você um aplicativo para manutenção de um cadastro de clientes. Após a reunião de definição dos requisitos, as conclusões foram as seguintes:\n",
        "\n",
        "- Um cliente pode ter um número ilimitado de telefones;\n",
        "- Cada telefone de cliente tem um tipo, por exemplo: comercial, residencial, celular, etc. O sistema deve permitir cadastrar novos tipos de telefone;\n",
        "- A princípio, é necessário saber apenas em qual estado brasileiro cada cliente se encontra. O sistema deve permitir cadastrar novos estados;\n",
        "\n",
        "Você ficou responsável pela parte da estrutura de banco de dados que será usada pelo aplicativo. Assim sendo:\n",
        "\n",
        "- Proponha um modelo lógico para o banco de dados que vai atender a aplicação. Desenhe as tabelas necessárias, os campos de cada uma e marque com setas os relacionamentos existentes entre as tabelas;\n",
        "- Aponte os campos que são chave primária (PK) e chave estrangeira (FK);\n",
        "- Faça uma busca utilizando comando SQL que traga o código, a razão social e o(s) telefone(s) de todos os clientes do estado de São Paulo (código “SP”);"
      ],
      "metadata": {
        "id": "AcfZZzOj1xLN"
      }
    },
    {
      "cell_type": "markdown",
      "source": [
        "Resposta:\n",
        "\n",
        "Usado PGADMIN para Rodar\n",
        "\n",
        "Modelo Entidade - Relacionamento: https://app.brmodeloweb.com/#!/publicview/66fe09cb3e6238df6cd01812\n",
        "\n",
        "Modelo Lógico: https://app.brmodeloweb.com/#!/publicview/66fe09ef3e6238df6cd0181b"
      ],
      "metadata": {
        "id": "fkawTM-lVRVX"
      }
    },
    {
      "cell_type": "markdown",
      "source": [
        "drop table telefones;\n",
        "\n",
        "drop table tipo_telefone;\n",
        "\n",
        "drop table cliente;\n",
        "\n",
        "drop table estado;\n",
        "\n",
        "\n",
        "\n",
        "CREATE TABLE tipo_telefone\n",
        "(\n",
        " pk_tipo_telefone INT PRIMARY KEY,  \n",
        " descricao VARCHAR(100) NOT NULL\n",
        ");\n",
        "\n",
        "CREATE TABLE telefones\n",
        "(\n",
        " pk_telefone INT PRIMARY KEY,  \n",
        " numero_telefone VARCHAR(15) NOT NULL,  \n",
        " fk_tipo_telefone INT,  \n",
        " fk_cliente INT\n",
        ");\n",
        "\n",
        "CREATE TABLE cliente\n",
        "(\n",
        " pk_cliente INT PRIMARY KEY,  \n",
        " razao_social VARCHAR(120) NOT NULL,  \n",
        " fk_estado VARCHAR(2)\n",
        ");\n",
        "\n",
        "CREATE TABLE estado\n",
        "(\n",
        " pk_estado VARCHAR(2) PRIMARY KEY,  \n",
        " nome VARCHAR(80)\n",
        ");\n",
        "\n",
        "ALTER TABLE telefones ADD FOREIGN KEY(fk_tipo_telefone) REFERENCES tipo_telefone (pk_tipo_telefone);\n",
        "ALTER TABLE telefones ADD FOREIGN KEY(fk_cliente) REFERENCES cliente (pk_cliente);\n",
        "ALTER TABLE cliente ADD FOREIGN KEY(fk_estado) REFERENCES estado (pk_estado);\n"
      ],
      "metadata": {
        "id": "_0atVuWhbfF6"
      }
    },
    {
      "cell_type": "markdown",
      "source": [
        "insert into estado values ('RS', 'Teste1');\n",
        "\n",
        "insert into estado values ('SP', 'Teste2');\n",
        "\n",
        "\n",
        "insert into tipo_telefone values (1, 'Comercial');\n",
        "\n",
        "insert into tipo_telefone values (2, 'Residêncial');\n",
        "\n",
        "insert into tipo_telefone values (3, 'Contato Emergência');\n",
        "\n",
        "\n",
        "insert into cliente values (1, 'Andressa RS', 'RS');\n",
        "\n",
        "insert into cliente values (2, 'Andressa RS2', 'RS');\n",
        "\n",
        "insert into cliente values (3, 'Andressa SP', 'SP');\n",
        "\n",
        "insert into cliente values (4, 'Andressa SP2', 'SP');\n",
        "\n",
        "insert into telefones values (1, '55519972647481',1,1);\n",
        "\n",
        "\n",
        "insert into telefones values (2, '55519972647481',2,1);\n",
        "\n",
        "\n",
        "insert into telefones values (3, '55519972647481',3,1);\n",
        "\n",
        "insert into telefones values (4, '55519972647482',1,2);\n",
        "\n",
        "\n",
        "insert into telefones values (5, '55519972647482',2,2);\n",
        "\n",
        "\n",
        "insert into telefones values (6, '55519972647482',3,2);\n",
        "\t\t\t\t\t\t\t  \n",
        "insert into telefones values (7, '55519972647483',1,3);\n",
        "\n",
        "\n",
        "insert into telefones values (8, '55519972647483',2,3);\n",
        "\n",
        "\n",
        "insert into telefones values (9,'55519972647483',3,3);\n",
        "\n",
        "\t\t\t\t\t\t\t  \n",
        "insert into telefones values ('10', '55519972647484',1,4);\n",
        "\n",
        "\n",
        "insert into telefones values ('11', '55519972647484',2,4);\n",
        "\n",
        "\n",
        "insert into telefones values ('12', '55519972647484',3,4);\n"
      ],
      "metadata": {
        "id": "kXv2dfUNblWa"
      }
    },
    {
      "cell_type": "code",
      "source": [
        "%sql\n",
        "\n",
        "SELECT\n",
        "\tc.pk_cliente AS codigo_cliente,\n",
        "\tc.razao_social AS nome_cliente,\n",
        "\tCONCAT (\n",
        "\t\t'(',SUBSTRING(t.numero_telefone,1,2), ')',\n",
        "\t\t'(',SUBSTRING(t.numero_telefone,3,2), ')',\n",
        "\t\tSUBSTRING(t.numero_telefone,5,5),\n",
        "\t\t'-',SUBSTRING(t.numero_telefone,10,5)\n",
        "\t) AS telefone_cliente\n",
        "FROM cliente c\n",
        "\tJOIN telefones t ON c.pk_cliente = t.fk_cliente\n",
        "\tJOIN estado e ON c.fk_estado = e.pk_estado\n",
        "WHERE e.pk_estado = 'SP';\n"
      ],
      "metadata": {
        "id": "NpEBRU6wmi8Y"
      },
      "execution_count": null,
      "outputs": []
    },
    {
      "cell_type": "markdown",
      "source": [
        "#5) Dois veículos, um carro e um caminhão, saem respectivamente de cidades opostas pela mesma rodovia. O carro, de Ribeirão Preto em direção a Barretos, a uma velocidade constante de 90 km/h, e o caminhão, de Barretos em direção a Ribeirão Preto, a uma velocidade constante de 80 km/h. Quando eles se cruzarem no percurso, qual estará mais próximo da cidade de Ribeirão Preto?\n",
        "\n",
        "a) Considerar a distância de 125km entre a cidade de Ribeirão Preto <-> Barretos.\n",
        "\n",
        "b) Considerar 3 pedágios como obstáculo e que o carro leva 5 minutos a mais para passar em cada um deles, pois ele não possui dispositivo de cobrança de pedágio.\n",
        "\n",
        "c)Explique como chegou no resultado."
      ],
      "metadata": {
        "id": "w7hnutyZ13GH"
      }
    },
    {
      "cell_type": "markdown",
      "source": [
        "#Resposta: O carro estará mais próximo de Ribeirão Preto ao cruzar no percurso com o caminhão.\n",
        "\n",
        "Primeiramente separei as informações principais para evitar confusão:\n",
        "Dt = 125 km\n",
        "\n",
        "Caminhão\n",
        "Barretos ->  Ribeirão Preto\n",
        "V = 80 km/h\n",
        "\n",
        "Carro\n",
        "Ribeirão Preto -> Barretos\n",
        "V = 90 Km/h\n",
        "t = + 15 minutos de pedágio\n",
        "\n",
        "Calculei o tempo de viagem de cada um:\n",
        "\n",
        "tempo = distancia / velocidade\n",
        "Tcaminhao = 125 / 80 = 1,5625 h\n",
        "Tcarro = 125 / 90 = 1,388888888888889 h + 0,25 h (15min de pedágio) = 1,638888888888889 h\n",
        "\n",
        "\n",
        "Preciso recalcular a velocidade do carro agora que tenho o tempo de trajeto com o pedágio considerado:\n",
        "V = 125/1,638888888888889 = 76,28 km/h\n",
        "\n",
        "\n",
        "Então, sabemos a velocidade e o tempo que a viagem levará para cada veículo:\n",
        "\n",
        "Caminhão\n",
        "Barretos ->  Ribeirão Preto\n",
        "V = 80 km/h\n",
        "t =  1,5625 h = 93,75 minutos\n",
        "\n",
        "Carro\n",
        "Ribeirão Preto -> Barretos\n",
        "V = 76,28 km/h\n",
        "t = 1,638888888888889 h= 98,33 minutos\n",
        "\n",
        "Por lógica, o carro estará mais perto de Ribeirão Preto, pois, é seu ponto de partida e ele está mais devagar que o caminhão."
      ],
      "metadata": {
        "id": "a7lmASvH17bK"
      }
    }
  ]
}